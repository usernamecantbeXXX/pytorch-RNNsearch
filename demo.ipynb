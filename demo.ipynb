{
 "cells": [
  {
   "cell_type": "code",
   "execution_count": 1,
   "id": "1bef518c",
   "metadata": {},
   "outputs": [],
   "source": [
    "import sys\n",
    "sys.path.append(\"/home/domp/pytorch-RNNsearch\")"
   ]
  },
  {
   "cell_type": "code",
   "execution_count": 2,
   "id": "8ca4e3e4",
   "metadata": {},
   "outputs": [],
   "source": [
    "import torch \n",
    "import tqdm\n",
    "import torch.nn as nn \n",
    "from torch.utils.data import DataLoader\n",
    "from torchtext.data.metrics import bleu_score\n",
    "from dataset import prepare_data, get_iter, Collater\n",
    "from rnn_attn import build_model\n",
    "from config import get_cfg_defaults\n",
    "import matplotlib.pyplot as plt"
   ]
  },
  {
   "cell_type": "code",
   "execution_count": 3,
   "id": "0b007a8b",
   "metadata": {},
   "outputs": [],
   "source": [
    "%matplotlib inline"
   ]
  },
  {
   "cell_type": "markdown",
   "id": "733fa9ac",
   "metadata": {},
   "source": [
    "# Helper Functions"
   ]
  },
  {
   "cell_type": "code",
   "execution_count": 4,
   "id": "ac36bddd",
   "metadata": {},
   "outputs": [],
   "source": [
    "def translate(\n",
    "    sentence: str, \n",
    "    model: torch.nn.Module, \n",
    "    cfg, \n",
    "    max_length: int, \n",
    "    text_transform: dict, \n",
    "    vocab_transform: dict, \n",
    "    token_transform: dict, \n",
    "    device: torch.device,\n",
    "    plot: bool = True,\n",
    "):\n",
    "    \"\"\"Function to translate a sentence and plot the attention weights.\"\"\"\n",
    "    model.eval()\n",
    "    text_tensor = text_transform[cfg.DATASET.SRC_LANGUAGE](sentence)\n",
    "    text_tensor = text_tensor.unsqueeze(1).to(device)\n",
    "    \n",
    "    with torch.no_grad():\n",
    "        out, attn = model.inference(text_tensor, max_length, cfg)\n",
    "    \n",
    "    pred_tokens = out.argmax(2).squeeze(1)\n",
    "    pred_tokens = [t.item() for t in pred_tokens]\n",
    "    \n",
    "    eos = pred_tokens.index(cfg.DATASET.EOS_IDX)\n",
    "    \n",
    "    translation = vocab_transform[cfg.DATASET.TGT_LANGUAGE].lookup_tokens(pred_tokens[1:eos])\n",
    "    \n",
    "    attn = attn.squeeze(0).cpu().numpy()\n",
    "    attn = attn[1:eos+1, 1:] # [tgt, src]\n",
    "    \n",
    "    src_tokens = token_transform[cfg.DATASET.SRC_LANGUAGE](sentence)\n",
    "    tgt_tokens = token_transform[cfg.DATASET.TGT_LANGUAGE](\" \".join(translation))\n",
    "    \n",
    "    src_tokens += [\"<eos>\"]\n",
    "    tgt_tokens += [\"<eos>\"]\n",
    "    \n",
    "    print(\"TRANSLATION\")\n",
    "    print(\"=\"*50)\n",
    "    print(\"SOURCE: {}\".format(\" \".join(src_tokens)))\n",
    "    print(\"-\"*50)\n",
    "    print(\"PREDICTION: {}\".format(\" \".join(translation)))\n",
    "    print(\"\\n\")\n",
    "    \n",
    "    if plot:\n",
    "        fig, ax = plt.subplots(1,1, figsize=(10,10))\n",
    "\n",
    "        img = ax.matshow(attn)\n",
    "        ax.set_xticks([i for i in range(len(src_tokens))])\n",
    "        ax.set_yticks([i for i in range(len(tgt_tokens))])\n",
    "\n",
    "        ax.set_xticklabels(src_tokens, rotation=90)\n",
    "        ax.set_yticklabels(tgt_tokens)"
   ]
  },
  {
   "cell_type": "code",
   "execution_count": 5,
   "id": "adbbd3e1",
   "metadata": {},
   "outputs": [],
   "source": [
    "def print_test_predictions(\n",
    "    model, \n",
    "    dataloader, \n",
    "    cfg, \n",
    "    vocab_transform, \n",
    "    device, \n",
    "    max_length: int = 100, \n",
    "    num_sentences: int = 5,\n",
    "):\n",
    "    model.eval()\n",
    "    count = 0\n",
    "    for src, tgt in test_dataloader:\n",
    "        print(\"===\"*20)\n",
    "        src_ = src.to(device)\n",
    "\n",
    "        with torch.no_grad():\n",
    "            pred, _ = model.inference(src_, max_length, cfg)\n",
    "\n",
    "        pred = pred.argmax(2).squeeze(1)\n",
    "        pred = [t.item() for t in pred]\n",
    "        eos = pred.index(cfg.DATASET.EOS_IDX)\n",
    "        pred = pred[1:eos]\n",
    "        pred = vocab_transform[cfg.DATASET.TGT_LANGUAGE].lookup_tokens(pred)\n",
    "\n",
    "        src = list(src.squeeze(1).numpy())\n",
    "        tgt = list(tgt.squeeze(1).numpy())\n",
    "\n",
    "        src = vocab_transform[cfg.DATASET.SRC_LANGUAGE].lookup_tokens(src)\n",
    "        tgt = vocab_transform[cfg.DATASET.TGT_LANGUAGE].lookup_tokens(tgt)\n",
    "\n",
    "        print(\"SRC:\\t{}\".format(\" \".join(src[1:-1])))\n",
    "        print(\"TGT:\\t{}\".format(\" \".join(tgt[1:-1])))\n",
    "        print(\"---\"*20)\n",
    "        print(\"PRED:\\t{}\".format(\" \".join(pred)))\n",
    "\n",
    "        count += 1\n",
    "        if count == num_sentences:\n",
    "            return"
   ]
  },
  {
   "cell_type": "code",
   "execution_count": 6,
   "id": "d7c733ed",
   "metadata": {},
   "outputs": [],
   "source": [
    "def bleu_score_test(\n",
    "    iterator, \n",
    "    model: torch.nn.Module, \n",
    "    cfg, \n",
    "    token_transform: dict, \n",
    "    text_transform: dict,\n",
    "    vocab_transform: dict,\n",
    "    max_n: int = 4, \n",
    "    weights: list = [0.25, 0.25, 0.25, 0.25],\n",
    "    max_length: int = 1000,\n",
    "):\n",
    "    \"\"\"Helper function to calculate bleu score.\"\"\"\n",
    "    bleu_scores = []\n",
    "    model.eval()\n",
    "\n",
    "    for src, tgt in tqdm.tqdm(iterator):\n",
    "        src_ = token_transform[cfg.DATASET.SRC_LANGUAGE](src)\n",
    "        tgt_ = token_transform[cfg.DATASET.TGT_LANGUAGE](tgt)\n",
    "        # remove stuff for bleu score (I've chosen a bad tokenizer I guess)\n",
    "        src_.remove('\\n')\n",
    "        while ' ' in src_:\n",
    "            src_.remove(' ')\n",
    "        while '  ' in src_:\n",
    "            src_.remove('  ')\n",
    "        while '   ' in src_:\n",
    "            src_.remove('   ')\n",
    "        tgt_.remove('\\n')\n",
    "        while ' ' in tgt_:\n",
    "            tgt_.remove(' ')\n",
    "        while '  ' in tgt_:\n",
    "            tgt_.remove('  ')\n",
    "        while '   ' in tgt_:\n",
    "            tgt_.remove('   ')\n",
    "\n",
    "        text_tensor = text_transform[cfg.DATASET.SRC_LANGUAGE](src)\n",
    "        text_tensor = text_tensor.unsqueeze(1).to(device)\n",
    "\n",
    "        with torch.no_grad():\n",
    "            out, _ = model.inference(text_tensor, max_length, cfg)\n",
    "\n",
    "        pred_tokens = out.argmax(2).squeeze(1)\n",
    "        pred_tokens = [t.item() for t in pred_tokens]\n",
    "\n",
    "        eos = pred_tokens.index(cfg.DATASET.EOS_IDX)\n",
    "        pred_tokens_ = pred_tokens[1:eos]\n",
    "\n",
    "        translation = vocab_transform[cfg.DATASET.TGT_LANGUAGE].lookup_tokens(pred_tokens_)\n",
    "\n",
    "        while ' ' in translation:\n",
    "            translation.remove(' ')\n",
    "        while '  ' in translation:\n",
    "            translation.remove('  ')\n",
    "        while '   ' in translation:\n",
    "            translation.remove('   ')\n",
    "\n",
    "        candidate = [translation]\n",
    "        refs = [[tgt_]]\n",
    "\n",
    "        bscore = bleu_score(candidate, refs, max_n=max_n, weights=weights)\n",
    "        bleu_scores.append(bscore)\n",
    "        \n",
    "    return round(sum(bleu_scores) / len(bleu_scores) * 100, 2)"
   ]
  },
  {
   "cell_type": "code",
   "execution_count": 7,
   "id": "8ffc6bfa",
   "metadata": {},
   "outputs": [],
   "source": [
    "# put your paths here\n",
    "checkpoint_path = \"/home/domp/pytorch-RNNsearch/experiments/2021-11-21_IWSLT2017/best.pth\"\n",
    "config_path = \"/home/domp/pytorch-RNNsearch/experiments/2021-11-21_IWSLT2017/config.yaml\""
   ]
  },
  {
   "cell_type": "code",
   "execution_count": 8,
   "id": "c5668154",
   "metadata": {},
   "outputs": [],
   "source": [
    "cfg = get_cfg_defaults()\n",
    "cfg.merge_from_file(config_path)"
   ]
  },
  {
   "cell_type": "code",
   "execution_count": 9,
   "id": "d5da3db2",
   "metadata": {},
   "outputs": [],
   "source": [
    "device = torch.device(\"cuda\" if torch.cuda.is_available() else \"cpu\")\n",
    "torch.cuda.set_device(1)"
   ]
  },
  {
   "cell_type": "code",
   "execution_count": 10,
   "id": "1d8e893b",
   "metadata": {},
   "outputs": [
    {
     "name": "stdout",
     "output_type": "stream",
     "text": [
      "Length of vocab [de - IWSLT2017]: 16713\n",
      "Length of vocab [en - IWSLT2017]: 14016\n"
     ]
    }
   ],
   "source": [
    "token_transform, vocab_transform, text_transform = prepare_data(cfg)"
   ]
  },
  {
   "cell_type": "code",
   "execution_count": 11,
   "id": "618bcd05",
   "metadata": {},
   "outputs": [
    {
     "name": "stdout",
     "output_type": "stream",
     "text": [
      "Load model checkpoint: /home/domp/pytorch-RNNsearch/experiments/2021-11-21_IWSLT2017/best.pth\n"
     ]
    },
    {
     "data": {
      "text/plain": [
       "Seq2Seq(\n",
       "  (encoder): Encoder(\n",
       "    (embedding): Embedding(16713, 256)\n",
       "    (rnn): GRU(256, 512, bidirectional=True)\n",
       "    (fc): Linear(in_features=1024, out_features=512, bias=True)\n",
       "    (dropout): Dropout(p=0.5, inplace=False)\n",
       "  )\n",
       "  (decoder): Decoder(\n",
       "    (attention): Attention(\n",
       "      (attn): Linear(in_features=1536, out_features=512, bias=True)\n",
       "      (v): Linear(in_features=512, out_features=1, bias=False)\n",
       "    )\n",
       "    (embedding): Embedding(14016, 256)\n",
       "    (rnn): GRU(1280, 512)\n",
       "    (fc_out): Linear(in_features=1792, out_features=14016, bias=True)\n",
       "    (dropout): Dropout(p=0.5, inplace=False)\n",
       "  )\n",
       ")"
      ]
     },
     "execution_count": 11,
     "metadata": {},
     "output_type": "execute_result"
    }
   ],
   "source": [
    "model = build_model(cfg, vocab_transform, device, checkpoint_path)\n",
    "model.eval()"
   ]
  },
  {
   "cell_type": "code",
   "execution_count": 12,
   "id": "c72cd0c3",
   "metadata": {},
   "outputs": [],
   "source": [
    "criterion = nn.CrossEntropyLoss(ignore_index=cfg.DATASET.PAD_IDX)\n",
    "collater = Collater(cfg, text_transform)"
   ]
  },
  {
   "cell_type": "code",
   "execution_count": 13,
   "id": "eb91e304",
   "metadata": {},
   "outputs": [],
   "source": [
    "test_iter = get_iter(cfg, split=\"test\")"
   ]
  },
  {
   "cell_type": "code",
   "execution_count": 14,
   "id": "ce21de4e",
   "metadata": {},
   "outputs": [],
   "source": [
    "test_dataloader = DataLoader(test_iter, batch_size=1, collate_fn=collater, pin_memory=True)"
   ]
  },
  {
   "cell_type": "code",
   "execution_count": 15,
   "id": "7eb00ac1",
   "metadata": {},
   "outputs": [
    {
     "name": "stdout",
     "output_type": "stream",
     "text": [
      "============================================================\n",
      "SRC:\tVor einigen Jahren , hier bei TED , stellte Peter unk einen unk namens \" Die unk \" vor .\n",
      "TGT:\tSeveral years ago here at TED , Peter unk   introduced a design challenge   called the marshmallow challenge .\n",
      "------------------------------------------------------------\n",
      "PRED:\tA couple years ago , at TED TED , Peter Peter unk a unk called \" The unk unk . \"\n",
      "============================================================\n",
      "SRC:\tDie Idee ist ziemlich einfach . unk müssen die unk unk Struktur mit 20 unk , ca. 1 m Klebeband , ca. 1 m Faden und einem Marshmallow bauen .\n",
      "TGT:\tAnd the idea 's pretty simple :   unk of four have to build the tallest free - standing structure   out of 20 sticks of spaghetti ,   one yard of tape , one yard of string   and a marshmallow .\n",
      "------------------------------------------------------------\n",
      "PRED:\tAnd the idea is pretty simple . unk , to have to unk the unk unk structure of 20 - 20 - , , about a a mile , about a a of a .\n",
      "============================================================\n",
      "SRC:\tDer Marshmallow muss oben drauf sein .\n",
      "TGT:\tThe marshmallow has to be on top .\n",
      "------------------------------------------------------------\n",
      "PRED:\tThe the needs to be be on top .\n",
      "============================================================\n",
      "SRC:\tUnd , obwohl es wirklich einfach scheint , ist es tatsächlich richtig schwer , weil es Leute drängt sehr schnell zusammenzuarbeiten .\n",
      "TGT:\tAnd , though it seems really simple , it 's actually pretty hard   because it forces people   to collaborate very quickly .\n",
      "------------------------------------------------------------\n",
      "PRED:\tAnd even though it 's really simple , it 's really really hard really hard , because it 's very very close to people very quickly .\n",
      "============================================================\n",
      "SRC:\tUnd so dachte ich , dass dies eine interessante Idee ist und ich habe es in einen unk verwandelt .\n",
      "TGT:\tAnd so , I thought this was an interesting idea ,   and I unk it into a design workshop .\n",
      "------------------------------------------------------------\n",
      "PRED:\tAnd so I thought that this is an interesting idea , and I 've turned into a unk . .\n",
      "============================================================\n",
      "SRC:\tEs war ein riesiger Erfolg .\n",
      "TGT:\tAnd it was a huge success .\n",
      "------------------------------------------------------------\n",
      "PRED:\tIt was a huge success .\n",
      "============================================================\n",
      "SRC:\tSeitdem habe ich ungefähr 70 Workshops weltweit durchgeführt , mit Studenten , unk und Architekten , sogar mit unk der unk und da ist etwas an dieser Aufgabe , was tiefe Eindrücke in die Natur der Zusammenarbeit ermöglicht und ich möchte einige davon mit Ihnen teilen .\n",
      "TGT:\tAnd since then , I 've conducted   about 70 design workshops across the world   with students and designers and architects ,   even the unk of the Fortune 50 ,   and there 's something about this exercise   that reveals very deep lessons   about the nature of collaboration ,   and I 'd like to share some of them with you .\n",
      "------------------------------------------------------------\n",
      "PRED:\tSince since I 've done about 70 around the world , students students , unk and architects , even with the unk of the , and there 's something of creating a deep - of - of nature of the and and I want to share some of those of you .\n"
     ]
    }
   ],
   "source": [
    "print_test_predictions(model, test_dataloader, cfg, vocab_transform, device, max_length=100, num_sentences=7)"
   ]
  },
  {
   "cell_type": "code",
   "execution_count": 16,
   "id": "36678842",
   "metadata": {},
   "outputs": [
    {
     "name": "stdout",
     "output_type": "stream",
     "text": [
      "TRANSLATION\n",
      "==================================================\n",
      "SOURCE: Mein Name ist Johann Gerberding und ich programmiere sehr gern und trainiere gern Machine Learning Modelle . <eos>\n",
      "--------------------------------------------------\n",
      "PREDICTION: My name is unk unk , and I love like very unk and unk unk to unk models .\n",
      "\n",
      "\n"
     ]
    },
    {
     "data": {
      "image/png": "[encoded data removed]",
      "text/plain": [
       "<Figure size 720x720 with 1 Axes>"
      ]
     },
     "metadata": {
      "needs_background": "light"
     },
     "output_type": "display_data"
    }
   ],
   "source": [
    "translate(\n",
    "    \"Mein Name ist Johann Gerberding und ich programmiere sehr gern und trainiere gern Machine Learning Modelle.\",\n",
    "    model,\n",
    "    cfg, \n",
    "    100,\n",
    "    text_transform,\n",
    "    vocab_transform, \n",
    "    token_transform,\n",
    "    device,\n",
    ")"
   ]
  },
  {
   "cell_type": "code",
   "execution_count": 17,
   "id": "df077df7",
   "metadata": {},
   "outputs": [],
   "source": [
    "sentences = [\n",
    "    \"Er liebt Bücher und gutes Essen mehr als alles andere.\", \n",
    "    \"Mathematik und Physik waren seine liebsten Fächer in der Schule.\",\n",
    "    \"Peter liebt es mit dem Fahrrad zur Arbeit zu fahren.\",\n",
    "    \"Künstliche Intelligenz und programmieren macht einfach Spaß.\",\n",
    "]"
   ]
  },
  {
   "cell_type": "code",
   "execution_count": 18,
   "id": "45a4ce39",
   "metadata": {},
   "outputs": [
    {
     "name": "stdout",
     "output_type": "stream",
     "text": [
      "TRANSLATION\n",
      "==================================================\n",
      "SOURCE: Er liebt Bücher und gutes Essen mehr als alles andere . <eos>\n",
      "--------------------------------------------------\n",
      "PREDICTION: He loves books and and food food more than anything else .\n",
      "\n",
      "\n"
     ]
    },
    {
     "data": {
      "image/png": "[encoded data removed]",
      "text/plain": [
       "<Figure size 720x720 with 1 Axes>"
      ]
     },
     "metadata": {
      "needs_background": "light"
     },
     "output_type": "display_data"
    }
   ],
   "source": [
    "translate(sentences[0], model, cfg, 100, text_transform, vocab_transform, token_transform, device)"
   ]
  },
  {
   "cell_type": "code",
   "execution_count": 19,
   "id": "e7bafb81",
   "metadata": {},
   "outputs": [
    {
     "name": "stdout",
     "output_type": "stream",
     "text": [
      "TRANSLATION\n",
      "==================================================\n",
      "SOURCE: Mathematik und Physik waren seine liebsten Fächer in der Schule . <eos>\n",
      "--------------------------------------------------\n",
      "PREDICTION: unk and physics were the most unk in school school .\n",
      "\n",
      "\n"
     ]
    },
    {
     "data": {
      "image/png": "[encoded data removed]",
      "text/plain": [
       "<Figure size 720x720 with 1 Axes>"
      ]
     },
     "metadata": {
      "needs_background": "light"
     },
     "output_type": "display_data"
    }
   ],
   "source": [
    "translate(sentences[1], model, cfg, 100, text_transform, vocab_transform, token_transform, device)"
   ]
  },
  {
   "cell_type": "code",
   "execution_count": 20,
   "id": "8e3f6957",
   "metadata": {},
   "outputs": [
    {
     "name": "stdout",
     "output_type": "stream",
     "text": [
      "TRANSLATION\n",
      "==================================================\n",
      "SOURCE: Peter liebt es mit dem Fahrrad zur Arbeit zu fahren . <eos>\n",
      "--------------------------------------------------\n",
      "PREDICTION: Peter was trying to work with the bicycle .\n",
      "\n",
      "\n"
     ]
    },
    {
     "data": {
      "image/png": "[encoded data removed]",
      "text/plain": [
       "<Figure size 720x720 with 1 Axes>"
      ]
     },
     "metadata": {
      "needs_background": "light"
     },
     "output_type": "display_data"
    }
   ],
   "source": [
    "translate(sentences[2], model, cfg, 100, text_transform, vocab_transform, token_transform, device)"
   ]
  },
  {
   "cell_type": "code",
   "execution_count": 21,
   "id": "9d90892d",
   "metadata": {},
   "outputs": [
    {
     "name": "stdout",
     "output_type": "stream",
     "text": [
      "TRANSLATION\n",
      "==================================================\n",
      "SOURCE: Künstliche Intelligenz und programmieren macht einfach Spaß . <eos>\n",
      "--------------------------------------------------\n",
      "PREDICTION: unk intelligence and and simply simply fun .\n",
      "\n",
      "\n"
     ]
    },
    {
     "data": {
      "image/png": "[encoded data removed]",
      "text/plain": [
       "<Figure size 720x720 with 1 Axes>"
      ]
     },
     "metadata": {
      "needs_background": "light"
     },
     "output_type": "display_data"
    }
   ],
   "source": [
    "translate(sentences[3], model, cfg, 100, text_transform, vocab_transform, token_transform, device)"
   ]
  },
  {
   "cell_type": "markdown",
   "id": "9d878188",
   "metadata": {},
   "source": [
    "# Bleu Score"
   ]
  },
  {
   "cell_type": "markdown",
   "id": "275effd9",
   "metadata": {},
   "source": [
    "Down below I evaluate the model on the test set based on the Bleu Score (https://aclanthology.org/P02-1040.pdf) using two different ngram values, 3 & 4. The Bleu Score is often used for evaluation in Neural Machine Translation."
   ]
  },
  {
   "cell_type": "code",
   "execution_count": 22,
   "id": "a90934db",
   "metadata": {},
   "outputs": [
    {
     "name": "stderr",
     "output_type": "stream",
     "text": [
      "100%|█████████████████████████████████████████████████████████████████████████████████████████████████████████████████████| 1568/1568 [14:45<00:00,  1.77it/s]\n"
     ]
    },
    {
     "data": {
      "text/plain": [
       "16.33"
      ]
     },
     "execution_count": 22,
     "metadata": {},
     "output_type": "execute_result"
    }
   ],
   "source": [
    "test_iter = get_iter(cfg, split=\"test\")\n",
    "bleu4 = bleu_score_test(\n",
    "    test_iter,\n",
    "    model, \n",
    "    cfg, \n",
    "    token_transform, \n",
    "    text_transform,\n",
    "    vocab_transform)\n",
    "bleu4"
   ]
  },
  {
   "cell_type": "code",
   "execution_count": 23,
   "id": "46d4916f",
   "metadata": {},
   "outputs": [
    {
     "name": "stderr",
     "output_type": "stream",
     "text": [
      "100%|█████████████████████████████████████████████████████████████████████████████████████████████████████████████████████| 1568/1568 [15:02<00:00,  1.74it/s]\n"
     ]
    },
    {
     "data": {
      "text/plain": [
       "25.19"
      ]
     },
     "execution_count": 23,
     "metadata": {},
     "output_type": "execute_result"
    }
   ],
   "source": [
    "test_iter = get_iter(cfg, split=\"test\")\n",
    "bleu3 = bleu_score_test(\n",
    "    test_iter,\n",
    "    model, \n",
    "    cfg, \n",
    "    token_transform, \n",
    "    text_transform,\n",
    "    vocab_transform,\n",
    "    max_n=3,\n",
    "    weights=[0.33, 0.33, 0.33])\n",
    "bleu3"
   ]
  },
  {
   "cell_type": "code",
   "execution_count": null,
   "id": "c1fbfcc1",
   "metadata": {},
   "outputs": [],
   "source": []
  },
  {
   "cell_type": "code",
   "execution_count": null,
   "id": "256af6c4-59a5-4dad-8abe-dcf36ab9095e",
   "metadata": {},
   "outputs": [],
   "source": []
  }
 ],
 "metadata": {
  "interpreter": {
   "hash": "672b9cab71fe1b8eee182536e057e64aaec65c32c0a932d78131fbd409383a10"
  },
  "kernelspec": {
   "display_name": "pytorch-RNNsearch",
   "language": "python",
   "name": "pytorch-rnnsearch"
  },
  "language_info": {
   "codemirror_mode": {
    "name": "ipython",
    "version": 3
   },
   "file_extension": ".py",
   "mimetype": "text/x-python",
   "name": "python",
   "nbconvert_exporter": "python",
   "pygments_lexer": "ipython3",
   "version": "3.8.12"
  }
 },
 "nbformat": 4,
 "nbformat_minor": 5
}
